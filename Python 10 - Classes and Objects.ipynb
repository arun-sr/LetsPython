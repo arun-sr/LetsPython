{
 "cells": [
  {
   "cell_type": "markdown",
   "metadata": {},
   "source": [
    "# Introduction to Python"
   ]
  },
  {
   "cell_type": "markdown",
   "metadata": {},
   "source": [
    "# Classes and Objects"
   ]
  },
  {
   "cell_type": "code",
   "execution_count": 1,
   "metadata": {},
   "outputs": [
    {
     "name": "stdout",
     "output_type": "stream",
     "text": [
      "Fish is swimming\n",
      "Fish is eating\n"
     ]
    }
   ],
   "source": [
    "# Simple Class\n",
    "class Fish:\n",
    "    def swim(self):\n",
    "        print(\"Fish is swimming\")\n",
    "    def eat(self):\n",
    "        print(\"Fish is eating\")\n",
    "\n",
    "fish = Fish()\n",
    "fish.swim()\n",
    "fish.eat()"
   ]
  },
  {
   "cell_type": "code",
   "execution_count": 2,
   "metadata": {},
   "outputs": [
    {
     "name": "stdout",
     "output_type": "stream",
     "text": [
      "Counter Strike has started\n",
      "Counter Strike has stopped\n"
     ]
    }
   ],
   "source": [
    "# Overriding constructor\n",
    "class Game:\n",
    "    def __init__(self,name):\n",
    "        self.name = name\n",
    "    def start(self):\n",
    "        print(self.name,\"has started\")\n",
    "    def stop(self):\n",
    "        print(self.name,\"has stopped\")\n",
    "        \n",
    "game = Game(\"Counter Strike\")\n",
    "game.start()\n",
    "game.stop()"
   ]
  }
 ],
 "metadata": {
  "kernelspec": {
   "display_name": "Python 3",
   "language": "python",
   "name": "python3"
  },
  "language_info": {
   "codemirror_mode": {
    "name": "ipython",
    "version": 3
   },
   "file_extension": ".py",
   "mimetype": "text/x-python",
   "name": "python",
   "nbconvert_exporter": "python",
   "pygments_lexer": "ipython3",
   "version": "3.6.7"
  }
 },
 "nbformat": 4,
 "nbformat_minor": 2
}
