{
 "cells": [
  {
   "cell_type": "markdown",
   "metadata": {},
   "source": [
    "# Introduction to Python"
   ]
  },
  {
   "cell_type": "code",
   "execution_count": 1,
   "metadata": {},
   "outputs": [
    {
     "name": "stdout",
     "output_type": "stream",
     "text": [
      "The number is 12\n",
      "27\n"
     ]
    }
   ],
   "source": [
    "# Block of meaningful code\n",
    "\n",
    "def functionName(arg1,arg2):\n",
    "    print(arg1,arg2)\n",
    "    \n",
    "functionName('The number is',12)\n",
    "\n",
    "def sumOfTwo(num1,num2):\n",
    "    return (num1+num2)\n",
    "\n",
    "print(sumOfTwo(12,15))"
   ]
  },
  {
   "cell_type": "code",
   "execution_count": 2,
   "metadata": {},
   "outputs": [
    {
     "name": "stdout",
     "output_type": "stream",
     "text": [
      "3\n"
     ]
    }
   ],
   "source": [
    "# Our own length function\n",
    "\n",
    "def length(l):\n",
    "    count = 0\n",
    "    for item in l:\n",
    "        count += 1\n",
    "    return count\n",
    "\n",
    "print(length([12,14,566]))"
   ]
  }
 ],
 "metadata": {
  "kernelspec": {
   "display_name": "Python 3",
   "language": "python",
   "name": "python3"
  },
  "language_info": {
   "codemirror_mode": {
    "name": "ipython",
    "version": 3
   },
   "file_extension": ".py",
   "mimetype": "text/x-python",
   "name": "python",
   "nbconvert_exporter": "python",
   "pygments_lexer": "ipython3",
   "version": "3.6.7"
  }
 },
 "nbformat": 4,
 "nbformat_minor": 2
}
