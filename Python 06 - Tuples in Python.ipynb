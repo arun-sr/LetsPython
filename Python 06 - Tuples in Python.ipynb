{
 "cells": [
  {
   "cell_type": "markdown",
   "metadata": {},
   "source": [
    "# Introduction to Python"
   ]
  },
  {
   "cell_type": "code",
   "execution_count": 1,
   "metadata": {},
   "outputs": [],
   "source": [
    "# Same as List but immutable\n",
    "\n",
    "tuple1 = (12,)\n",
    "\n",
    "tuple1 = ('This is a string',14.5,0.9,500,'Another string')\n",
    "tuple2 = ('Next tuple',14.5,0.9,500)"
   ]
  },
  {
   "cell_type": "code",
   "execution_count": 2,
   "metadata": {},
   "outputs": [
    {
     "name": "stdout",
     "output_type": "stream",
     "text": [
      "('This is a string', 14.5, 0.9, 500, 'Another string')\n",
      "14.5\n",
      "0.9\n",
      "500\n",
      "9\n",
      "This is a string\n",
      "14.5\n",
      "0.9\n",
      "500\n",
      "Another string\n",
      "This is a string\n",
      "14.5\n",
      "0.9\n",
      "500\n",
      "Another string\n"
     ]
    }
   ],
   "source": [
    "# Printing elements of tuples\n",
    "\n",
    "print(tuple1)\n",
    "print(tuple1[1])\n",
    "print(tuple1[2])\n",
    "print(tuple1[3])\n",
    "\n",
    "# Adding two tuples\n",
    "\n",
    "tuple3 = tuple1 + tuple2\n",
    "\n",
    "# Length of a tuple\n",
    "\n",
    "print(len(tuple3))\n",
    "\n",
    "# Looping through a tuple\n",
    "\n",
    "# Method 1\n",
    "\n",
    "for i in range(0,len(tuple1)):\n",
    "    print(tuple1[i])\n",
    "    \n",
    "# Method 2\n",
    "    \n",
    "for item in tuple1:\n",
    "    print(item)"
   ]
  }
 ],
 "metadata": {
  "kernelspec": {
   "display_name": "Python 3",
   "language": "python",
   "name": "python3"
  },
  "language_info": {
   "codemirror_mode": {
    "name": "ipython",
    "version": 3
   },
   "file_extension": ".py",
   "mimetype": "text/x-python",
   "name": "python",
   "nbconvert_exporter": "python",
   "pygments_lexer": "ipython3",
   "version": "3.6.7"
  }
 },
 "nbformat": 4,
 "nbformat_minor": 2
}
