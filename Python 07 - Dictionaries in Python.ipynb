{
 "cells": [
  {
   "cell_type": "markdown",
   "metadata": {},
   "source": [
    "# Introduction in Python"
   ]
  },
  {
   "cell_type": "code",
   "execution_count": 1,
   "metadata": {},
   "outputs": [],
   "source": [
    "# Key - Value Pairs\n",
    "\n",
    "dict1 = {}"
   ]
  },
  {
   "cell_type": "code",
   "execution_count": 2,
   "metadata": {},
   "outputs": [
    {
     "name": "stdout",
     "output_type": "stream",
     "text": [
      "{'apple': 'Apple is a fruit', 'orange': 'Orange is a fruit', 'car': 'Cars are fast', 'python': 'Python is a snake'}\n",
      "Apple is a fruit\n",
      "Cars are fast\n",
      "Python is a snake\n",
      "Does not exist\n",
      "3\n",
      "Orange is a fruit\n",
      "Cars are fast\n",
      "Python is a snake\n"
     ]
    }
   ],
   "source": [
    "# Adding elements to the dictinary\n",
    "\n",
    "dict1['apple'] = 'Apple is a fruit'\n",
    "dict1['orange'] = 'Orange is a fruit'\n",
    "dict1['car'] = 'Cars are fast'\n",
    "dict1['python'] = 'Python is a snake'\n",
    "\n",
    "# Printing dictionary elements\n",
    "\n",
    "print(dict1)\n",
    "print(dict1['apple'])\n",
    "print(dict1['car'])\n",
    "print(dict1['python'])\n",
    "\n",
    "print(dict1.get('jython','Does not exist'))\n",
    "\n",
    "# Deleting elements\n",
    "\n",
    "del dict1['apple']\n",
    "\n",
    "# Length of a dictionary\n",
    "\n",
    "print(len(dict1))\n",
    "\n",
    "# List of keys and Values\n",
    "\n",
    "listOfKeys = list(dict1.keys())\n",
    "listOfValues = list(dict1.values())\n",
    "\n",
    "# Looping through lists\n",
    "\n",
    "for key in dict1.keys():\n",
    "    print(dict1[key])"
   ]
  }
 ],
 "metadata": {
  "kernelspec": {
   "display_name": "Python 3",
   "language": "python",
   "name": "python3"
  },
  "language_info": {
   "codemirror_mode": {
    "name": "ipython",
    "version": 3
   },
   "file_extension": ".py",
   "mimetype": "text/x-python",
   "name": "python",
   "nbconvert_exporter": "python",
   "pygments_lexer": "ipython3",
   "version": "3.6.7"
  }
 },
 "nbformat": 4,
 "nbformat_minor": 2
}
