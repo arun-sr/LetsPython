{
 "cells": [
  {
   "cell_type": "markdown",
   "metadata": {},
   "source": [
    "# Introduction to Python"
   ]
  },
  {
   "cell_type": "code",
   "execution_count": 1,
   "metadata": {},
   "outputs": [],
   "source": [
    "# List comprehension in Python\n",
    "\n",
    "numbers = [1,2,3,4,5,6,7,8,9,10]\n",
    "\n",
    "# Copying using a loop\n",
    "newNumbers = []\n",
    "for number in numbers:\n",
    "    newNumbers.append(number)\n",
    "\n",
    "# Copying using list comprehension\n",
    "newNumbers = [number for number in numbers]\n",
    "\n",
    "# Copying and filtering based on condition\n",
    "newNumbers = [number for number in numbers if number <= 5]\n",
    "\n",
    "# Copying and filtering based on another list\n",
    "numbers2 = [1,3,5,7,9]\n",
    "newNumbers = [number for number in numbers if number not in numbers2]\n",
    "\n",
    "# Some more examples\n",
    "newNumbers = [number*2 for number in numbers]\n",
    "newNumbers = [number for number in numbers if number%2 == 1]\n",
    "\n",
    "# Generator Comprehension\n",
    "squareGen= (number**2 for number in numbers)\n",
    "list(squareGen)\n",
    "\n",
    "# Dictionary Comprehension\n",
    "myDict = {\"apple\":1,\"orange\":4,\"banana\":10}\n",
    "newDict = {key:myDict[key] for key in myDict.keys()}\n",
    "\n",
    "newDict = {key:myDict[key] for key in myDict.keys() if myDict[key] > 5}\n",
    "\n",
    "\n",
    "# Joining list of words\n",
    "words = [\"I\",\"love\",\"Avengers\",\"so\",\"much\"]\n",
    "sentence = ' '.join(words)\n",
    "sentence = '.'.join(words)"
   ]
  }
 ],
 "metadata": {
  "kernelspec": {
   "display_name": "Python 3",
   "language": "python",
   "name": "python3"
  },
  "language_info": {
   "codemirror_mode": {
    "name": "ipython",
    "version": 3
   },
   "file_extension": ".py",
   "mimetype": "text/x-python",
   "name": "python",
   "nbconvert_exporter": "python",
   "pygments_lexer": "ipython3",
   "version": "3.6.7"
  }
 },
 "nbformat": 4,
 "nbformat_minor": 2
}
