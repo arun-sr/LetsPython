{
 "cells": [
  {
   "cell_type": "markdown",
   "metadata": {},
   "source": [
    "# Introduction to Python\n",
    "\n",
    "Python is a general-purpose interpreted, interactive, object-oriented, and high-level programming language. It was created by Guido van Rossum during 1985- 1990. Like Perl, Python source code is also available under the GNU General Public License (GPL). This tutorial gives enough understanding on Python programming language."
   ]
  },
  {
   "cell_type": "markdown",
   "metadata": {},
   "source": [
    "Other Resources\n",
    "\n",
    "- https://github.com/jmportilla/Complete-Python-Bootcamp\n",
    "- https://www.w3schools.com/python/\n",
    "- https://www.tutorialspoint.com/python/\n",
    "- https://realpython.com/tutorials/python/"
   ]
  },
  {
   "cell_type": "markdown",
   "metadata": {},
   "source": [
    "# Printing to he console"
   ]
  },
  {
   "cell_type": "code",
   "execution_count": 2,
   "metadata": {},
   "outputs": [
    {
     "name": "stdout",
     "output_type": "stream",
     "text": [
      "Hello world\n",
      "10 This is a string 12.5\n",
      "The value of a is  10\n"
     ]
    }
   ],
   "source": [
    "print(\"Hello world\")\n",
    "\n",
    "a = 10\n",
    "b = \"This is a string\"\n",
    "c = 12.5\n",
    "\n",
    "print(a,b,c)\n",
    "\n",
    "print(\"The value of a is \",a)"
   ]
  },
  {
   "cell_type": "markdown",
   "metadata": {},
   "source": [
    "# Mathematical Operations"
   ]
  },
  {
   "cell_type": "code",
   "execution_count": 3,
   "metadata": {},
   "outputs": [
    {
     "name": "stdout",
     "output_type": "stream",
     "text": [
      "0\n"
     ]
    }
   ],
   "source": [
    "num1 = 12\n",
    "num2 = 4\n",
    "\n",
    "result = num1+num2\n",
    "result = num1-num2\n",
    "result = num1*num2\n",
    "result = num1/num2\n",
    "result = num1%num2\n",
    "\n",
    "print(result)"
   ]
  },
  {
   "cell_type": "markdown",
   "metadata": {},
   "source": [
    "# Special operations"
   ]
  },
  {
   "cell_type": "code",
   "execution_count": 4,
   "metadata": {},
   "outputs": [
    {
     "name": "stdout",
     "output_type": "stream",
     "text": [
      "I love Avengers\n",
      "I love Avengers\n",
      "I love Avengers\n",
      "I love Avengers\n",
      "I love Avengers\n",
      "\n",
      "I like cats so much\n"
     ]
    }
   ],
   "source": [
    "sen = \"I love Avengers\\n\"\n",
    "print(sen*5)\n",
    "\n",
    "print(\"I like cats\", end=\" \")\n",
    "print(\"so much\")"
   ]
  }
 ],
 "metadata": {
  "kernelspec": {
   "display_name": "Python 3",
   "language": "python",
   "name": "python3"
  },
  "language_info": {
   "codemirror_mode": {
    "name": "ipython",
    "version": 3
   },
   "file_extension": ".py",
   "mimetype": "text/x-python",
   "name": "python",
   "nbconvert_exporter": "python",
   "pygments_lexer": "ipython3",
   "version": "3.6.7"
  }
 },
 "nbformat": 4,
 "nbformat_minor": 2
}
