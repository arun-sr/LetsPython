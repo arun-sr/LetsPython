{
 "cells": [
  {
   "cell_type": "markdown",
   "metadata": {},
   "source": [
    "# Introduction to Python"
   ]
  },
  {
   "cell_type": "code",
   "execution_count": 1,
   "metadata": {},
   "outputs": [],
   "source": [
    "# Non homogeneous collection of elements\n",
    "list1 = [12,12.8,'This is a string']"
   ]
  },
  {
   "cell_type": "markdown",
   "metadata": {},
   "source": [
    "# Printing the list"
   ]
  },
  {
   "cell_type": "code",
   "execution_count": 2,
   "metadata": {},
   "outputs": [
    {
     "name": "stdout",
     "output_type": "stream",
     "text": [
      "[12, 12.8, 'This is a string']\n",
      "12\n",
      "12.8\n",
      "This is a string\n"
     ]
    }
   ],
   "source": [
    "print(list1)\n",
    "print(list1[0])\n",
    "print(list1[1])\n",
    "print(list1[2])"
   ]
  },
  {
   "cell_type": "code",
   "execution_count": 3,
   "metadata": {},
   "outputs": [
    {
     "name": "stdout",
     "output_type": "stream",
     "text": [
      "This is a string\n"
     ]
    }
   ],
   "source": [
    "# Adding elements to the list\n",
    "\n",
    "list1.append(50)\n",
    "list1.insert(0,'Another string')\n",
    "\n",
    "print(list1[3])"
   ]
  },
  {
   "cell_type": "code",
   "execution_count": 4,
   "metadata": {},
   "outputs": [
    {
     "name": "stdout",
     "output_type": "stream",
     "text": [
      "3\n",
      "Another string\n",
      "20\n",
      "This is a string\n",
      "12\n",
      "12\n",
      "12\n"
     ]
    }
   ],
   "source": [
    "# Updating List\n",
    "\n",
    "list1[1] = 20\n",
    "\n",
    "# Deleting elements of the list\n",
    "\n",
    "list1.pop()\n",
    "\n",
    "del list1[2]\n",
    "\n",
    "# Length of the list\n",
    "\n",
    "print(len(list1))\n",
    "\n",
    "# Looping through List\n",
    "\n",
    "# Method 1 : Using Indexes (Mainly for updating)\n",
    "\n",
    "for i in range(0,len(list1)):\n",
    "    print(list1[i])\n",
    "    list1[i] = 12 # Something else\n",
    "    \n",
    "# Method 2 : For each technique (Mainly for accessing)\n",
    "    \n",
    "for item in list1:\n",
    "    print(item)"
   ]
  }
 ],
 "metadata": {
  "kernelspec": {
   "display_name": "Python 3",
   "language": "python",
   "name": "python3"
  },
  "language_info": {
   "codemirror_mode": {
    "name": "ipython",
    "version": 3
   },
   "file_extension": ".py",
   "mimetype": "text/x-python",
   "name": "python",
   "nbconvert_exporter": "python",
   "pygments_lexer": "ipython3",
   "version": "3.6.7"
  }
 },
 "nbformat": 4,
 "nbformat_minor": 2
}
