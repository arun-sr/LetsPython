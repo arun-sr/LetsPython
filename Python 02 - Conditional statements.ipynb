{
 "cells": [
  {
   "cell_type": "markdown",
   "metadata": {},
   "source": [
    "# Introduction to Python"
   ]
  },
  {
   "cell_type": "markdown",
   "metadata": {},
   "source": [
    "# Structure of if statements"
   ]
  },
  {
   "cell_type": "code",
   "execution_count": 5,
   "metadata": {},
   "outputs": [
    {
     "name": "stdout",
     "output_type": "stream",
     "text": [
      "Grade E\n"
     ]
    }
   ],
   "source": [
    "\"\"\"\n",
    "if condition:\n",
    "    Statements\n",
    "elif condition:\n",
    "    Statements\n",
    "else:\n",
    "    Statements\n",
    "\"\"\"\n",
    "\n",
    "\n",
    "#Grade of a student\n",
    "\n",
    "marks = 90\n",
    "\n",
    "# No braces in Python, Indectation does the job\n",
    "\n",
    "if marks > 90:\n",
    "    print(\"Grade O\")\n",
    "elif marks > 80:\n",
    "    print(\"Grade E\")\n",
    "elif marks > 70:\n",
    "    print(\"Grade A\")\n",
    "elif marks > 60:\n",
    "    print(\"Grade B\")\n",
    "elif marks > 50:\n",
    "    print(\"Grade C\")\n",
    "else:\n",
    "    print(\"Better luck next time\")"
   ]
  },
  {
   "cell_type": "code",
   "execution_count": 6,
   "metadata": {},
   "outputs": [
    {
     "name": "stdout",
     "output_type": "stream",
     "text": [
      "Divisible\n"
     ]
    }
   ],
   "source": [
    "# Divisible or not\n",
    "\n",
    "number1 = 45\n",
    "number2 = 5\n",
    "\n",
    "if number1%number2 == 0:\n",
    "    print(\"Divisible\")\n",
    "else:\n",
    "    print(\"not divisible\")"
   ]
  }
 ],
 "metadata": {
  "kernelspec": {
   "display_name": "Python 3",
   "language": "python",
   "name": "python3"
  },
  "language_info": {
   "codemirror_mode": {
    "name": "ipython",
    "version": 3
   },
   "file_extension": ".py",
   "mimetype": "text/x-python",
   "name": "python",
   "nbconvert_exporter": "python",
   "pygments_lexer": "ipython3",
   "version": "3.6.7"
  }
 },
 "nbformat": 4,
 "nbformat_minor": 2
}
