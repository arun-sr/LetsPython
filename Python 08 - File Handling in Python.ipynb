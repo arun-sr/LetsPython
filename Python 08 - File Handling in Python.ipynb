{
 "cells": [
  {
   "cell_type": "markdown",
   "metadata": {},
   "source": [
    "# Introduction to Python"
   ]
  },
  {
   "cell_type": "code",
   "execution_count": 1,
   "metadata": {},
   "outputs": [
    {
     "name": "stdout",
     "output_type": "stream",
     "text": [
      "Enter a number: 5\n",
      "Enter a number: 10\n",
      "15\n"
     ]
    }
   ],
   "source": [
    "# Console I/O\n",
    "\n",
    "inp = input('Enter a number: ')\n",
    "number1 = int(inp)\n",
    "\n",
    "inp = input('Enter a number: ')\n",
    "number2 = int(inp)\n",
    "\n",
    "print(number1+number2)"
   ]
  },
  {
   "cell_type": "code",
   "execution_count": 2,
   "metadata": {},
   "outputs": [
    {
     "name": "stdout",
     "output_type": "stream",
     "text": [
      "Enter some text: Hai\n",
      "I love ApplesI hate BananasHai\n"
     ]
    }
   ],
   "source": [
    "# File I/O\n",
    "\n",
    "# Writing to a file\n",
    "\n",
    "inp = input('Enter some text: ')\n",
    "\n",
    "with open('textFile.txt','a') as f:\n",
    "    f.write(inp)\n",
    "    \n",
    "# Reading from a file\n",
    "    \n",
    "with open('textFile.txt','r') as f:\n",
    "    string = f.read()\n",
    "    print(string)"
   ]
  }
 ],
 "metadata": {
  "kernelspec": {
   "display_name": "Python 3",
   "language": "python",
   "name": "python3"
  },
  "language_info": {
   "codemirror_mode": {
    "name": "ipython",
    "version": 3
   },
   "file_extension": ".py",
   "mimetype": "text/x-python",
   "name": "python",
   "nbconvert_exporter": "python",
   "pygments_lexer": "ipython3",
   "version": "3.6.7"
  }
 },
 "nbformat": 4,
 "nbformat_minor": 2
}
